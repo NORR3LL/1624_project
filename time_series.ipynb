{
 "cells": [
  {
   "cell_type": "code",
   "execution_count": 1,
   "metadata": {},
   "outputs": [],
   "source": [
    "import pandas as pd\n",
    "from sklearn.preprocessing import MinMaxScaler\n",
    "import matplotlib.pyplot as plt\n",
    "\n",
    "# 读取数据\n",
    "file_path = 'Submited version.csv'  # 修改为您的文件路径\n",
    "data = pd.read_csv(file_path)\n",
    "\n",
    "# 选择加拿大的数据\n",
    "canada_data = data[data['Economies'] == 'Canada'][['Year', 'Global Innovation Index']].dropna()\n",
    "\n",
    "# 设置年份为索引\n",
    "canada_data.set_index('Year', inplace=True)\n",
    "\n",
    "# 数据归一化（可选）\n",
    "scaler = MinMaxScaler()\n",
    "canada_data['Global Innovation Index'] = scaler.fit_transform(canada_data[['Global Innovation Index']])\n"
   ]
  },
  {
   "cell_type": "code",
   "execution_count": null,
   "metadata": {},
   "outputs": [],
   "source": [
    "import statsmodels.api as sm\n",
    "\n",
    "# 创建滞后特征\n",
    "canada_data['Lag_1'] = canada_data['Global Innovation Index'].shift(1)\n",
    "canada_data = canada_data.dropna()\n",
    "\n",
    "# 定义自变量 (Lag_1) 和因变量 (Global Innovation Index)\n",
    "X = canada_data[['Lag_1']]\n",
    "y = canada_data['Global Innovation Index']\n",
    "\n",
    "# 添加常数项 (Intercept)\n",
    "X = sm.add_constant(X)\n",
    "\n",
    "# 拟合 GLM 模型\n",
    "glm_model = sm.GLM(y, X, family=sm.families.Gaussian())\n",
    "glm_results = glm_model.fit()\n",
    "\n",
    "# 打印模型摘要\n",
    "print(glm_results.summary())\n"
   ]
  },
  {
   "cell_type": "code",
   "execution_count": null,
   "metadata": {},
   "outputs": [],
   "source": [
    "# 使用模型进行预测\n",
    "canada_data['Predicted'] = glm_results.predict(X)\n",
    "\n",
    "# 可视化实际值与预测值\n",
    "plt.figure(figsize=(10, 6))\n",
    "plt.plot(canada_data.index, canada_data['Global Innovation Index'], label='Actual', marker='o')\n",
    "plt.plot(canada_data.index, canada_data['Predicted'], label='Predicted', marker='x')\n",
    "plt.title('Time Series Prediction using GLM')\n",
    "plt.xlabel('Year')\n",
    "plt.ylabel('Normalized Global Innovation Index')\n",
    "plt.legend()\n",
    "plt.grid(True)\n",
    "plt.show()\n"
   ]
  }
 ],
 "metadata": {
  "kernelspec": {
   "display_name": "ece1786",
   "language": "python",
   "name": "python3"
  },
  "language_info": {
   "codemirror_mode": {
    "name": "ipython",
    "version": 3
   },
   "file_extension": ".py",
   "mimetype": "text/x-python",
   "name": "python",
   "nbconvert_exporter": "python",
   "pygments_lexer": "ipython3",
   "version": "3.9.20"
  }
 },
 "nbformat": 4,
 "nbformat_minor": 2
}
